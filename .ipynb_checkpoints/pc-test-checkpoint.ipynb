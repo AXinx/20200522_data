{
 "cells": [
  {
   "cell_type": "code",
   "execution_count": 19,
   "id": "0eb099b0",
   "metadata": {},
   "outputs": [],
   "source": [
    "import pandas as pd\n",
    "import matplotlib.pyplot as plt\n",
    "\n",
    "db_orcal = pd.read_csv('db_oracle_11g.csv')\n",
    "container = pd.read_csv('dcos_container.csv')\n",
    "docker = pd.read_csv('dcos_docker.csv')\n",
    "mw_redis = pd.read_csv('mw_redis.csv')\n",
    "os = pd.read_csv('os_linux.csv')"
   ]
  },
  {
   "cell_type": "code",
   "execution_count": 20,
   "id": "f4ced8c3",
   "metadata": {},
   "outputs": [
    {
     "name": "stderr",
     "output_type": "stream",
     "text": [
      "/Users/ruyuexin/opt/anaconda3/envs/tf1/lib/python3.7/site-packages/ipykernel_launcher.py:3: SettingWithCopyWarning: \n",
      "A value is trying to be set on a copy of a slice from a DataFrame.\n",
      "Try using .loc[row_indexer,col_indexer] = value instead\n",
      "\n",
      "See the caveats in the documentation: https://pandas.pydata.org/pandas-docs/stable/user_guide/indexing.html#returning-a-view-versus-a-copy\n",
      "  This is separate from the ipykernel package so we can avoid doing imports until\n"
     ]
    }
   ],
   "source": [
    "cmdb_group = db_orcal.groupby(\"cmdb_id\")\n",
    "db = cmdb_group.get_group('db_003')\n",
    "db[\"time\"] = pd.to_datetime(db.timestamp, unit='ms', origin='1970-01-01 08:00:00')\n",
    "db = db.sort_values(by='timestamp')\n",
    "metrics = db.groupby('name')"
   ]
  },
  {
   "cell_type": "code",
   "execution_count": 21,
   "id": "5d24c7a3",
   "metadata": {},
   "outputs": [
    {
     "data": {
      "text/html": [
       "<div>\n",
       "<style scoped>\n",
       "    .dataframe tbody tr th:only-of-type {\n",
       "        vertical-align: middle;\n",
       "    }\n",
       "\n",
       "    .dataframe tbody tr th {\n",
       "        vertical-align: top;\n",
       "    }\n",
       "\n",
       "    .dataframe thead th {\n",
       "        text-align: right;\n",
       "    }\n",
       "</style>\n",
       "<table border=\"1\" class=\"dataframe\">\n",
       "  <thead>\n",
       "    <tr style=\"text-align: right;\">\n",
       "      <th></th>\n",
       "      <th>name</th>\n",
       "      <th>timestamp</th>\n",
       "      <th>value</th>\n",
       "    </tr>\n",
       "  </thead>\n",
       "  <tbody>\n",
       "    <tr>\n",
       "      <th>0</th>\n",
       "      <td>CPU_free_pct</td>\n",
       "      <td>1590076800000</td>\n",
       "      <td>98.850566</td>\n",
       "    </tr>\n",
       "    <tr>\n",
       "      <th>21</th>\n",
       "      <td>CPU_Used_Pct</td>\n",
       "      <td>1590076813000</td>\n",
       "      <td>1.149434</td>\n",
       "    </tr>\n",
       "    <tr>\n",
       "      <th>39</th>\n",
       "      <td>Used_Tbs_Size</td>\n",
       "      <td>1590076826000</td>\n",
       "      <td>17450.400000</td>\n",
       "    </tr>\n",
       "    <tr>\n",
       "      <th>41</th>\n",
       "      <td>SEQ_Used_Pct</td>\n",
       "      <td>1590076826000</td>\n",
       "      <td>1.000000</td>\n",
       "    </tr>\n",
       "    <tr>\n",
       "      <th>75</th>\n",
       "      <td>LFParaWrite_Per_Sec</td>\n",
       "      <td>1590076834000</td>\n",
       "      <td>1.470000</td>\n",
       "    </tr>\n",
       "    <tr>\n",
       "      <th>...</th>\n",
       "      <td>...</td>\n",
       "      <td>...</td>\n",
       "      <td>...</td>\n",
       "    </tr>\n",
       "    <tr>\n",
       "      <th>160443</th>\n",
       "      <td>MEM_real_util</td>\n",
       "      <td>1590098385000</td>\n",
       "      <td>45.690000</td>\n",
       "    </tr>\n",
       "    <tr>\n",
       "      <th>160447</th>\n",
       "      <td>MEM_Used</td>\n",
       "      <td>1590098393000</td>\n",
       "      <td>194.719396</td>\n",
       "    </tr>\n",
       "    <tr>\n",
       "      <th>160450</th>\n",
       "      <td>MEM_Total</td>\n",
       "      <td>1590098394000</td>\n",
       "      <td>381.902264</td>\n",
       "    </tr>\n",
       "    <tr>\n",
       "      <th>160454</th>\n",
       "      <td>MEM_Used_Pct</td>\n",
       "      <td>1590098395000</td>\n",
       "      <td>50.987952</td>\n",
       "    </tr>\n",
       "    <tr>\n",
       "      <th>160461</th>\n",
       "      <td>tnsping_result_time</td>\n",
       "      <td>1590098397000</td>\n",
       "      <td>0.000000</td>\n",
       "    </tr>\n",
       "  </tbody>\n",
       "</table>\n",
       "<p>12352 rows × 3 columns</p>\n",
       "</div>"
      ],
      "text/plain": [
       "                       name      timestamp         value\n",
       "0              CPU_free_pct  1590076800000     98.850566\n",
       "21             CPU_Used_Pct  1590076813000      1.149434\n",
       "39            Used_Tbs_Size  1590076826000  17450.400000\n",
       "41             SEQ_Used_Pct  1590076826000      1.000000\n",
       "75      LFParaWrite_Per_Sec  1590076834000      1.470000\n",
       "...                     ...            ...           ...\n",
       "160443        MEM_real_util  1590098385000     45.690000\n",
       "160447             MEM_Used  1590098393000    194.719396\n",
       "160450            MEM_Total  1590098394000    381.902264\n",
       "160454         MEM_Used_Pct  1590098395000     50.987952\n",
       "160461  tnsping_result_time  1590098397000      0.000000\n",
       "\n",
       "[12352 rows x 3 columns]"
      ]
     },
     "execution_count": 21,
     "metadata": {},
     "output_type": "execute_result"
    }
   ],
   "source": [
    "db_values = db[['name', 'timestamp', 'value']]\n",
    "db_values"
   ]
  },
  {
   "cell_type": "code",
   "execution_count": 22,
   "id": "d1f6e604",
   "metadata": {},
   "outputs": [
    {
     "ename": "ModuleNotFoundError",
     "evalue": "No module named 'models'",
     "output_type": "error",
     "traceback": [
      "\u001b[0;31m-------------------------------------------------------------\u001b[0m",
      "\u001b[0;31mModuleNotFoundError\u001b[0m         Traceback (most recent call last)",
      "\u001b[0;32m<ipython-input-22-16d059d1aded>\u001b[0m in \u001b[0;36m<module>\u001b[0;34m\u001b[0m\n\u001b[0;32m----> 1\u001b[0;31m \u001b[0;32mfrom\u001b[0m \u001b[0mcastle\u001b[0m\u001b[0;34m.\u001b[0m\u001b[0malgorithms\u001b[0m \u001b[0;32mimport\u001b[0m \u001b[0mPC\u001b[0m\u001b[0;34m\u001b[0m\u001b[0;34m\u001b[0m\u001b[0m\n\u001b[0m\u001b[1;32m      2\u001b[0m \u001b[0;31m#from castle.algorithms import DirectLiNGAM\u001b[0m\u001b[0;34m\u001b[0m\u001b[0;34m\u001b[0m\u001b[0;34m\u001b[0m\u001b[0m\n\u001b[1;32m      3\u001b[0m \u001b[0;34m\u001b[0m\u001b[0m\n\u001b[1;32m      4\u001b[0m \u001b[0;32mimport\u001b[0m \u001b[0mmatplotlib\u001b[0m\u001b[0;34m.\u001b[0m\u001b[0mpyplot\u001b[0m \u001b[0;32mas\u001b[0m \u001b[0mplt\u001b[0m\u001b[0;34m\u001b[0m\u001b[0;34m\u001b[0m\u001b[0m\n\u001b[1;32m      5\u001b[0m \u001b[0;31m# structure learning\u001b[0m\u001b[0;34m\u001b[0m\u001b[0;34m\u001b[0m\u001b[0;34m\u001b[0m\u001b[0m\n",
      "\u001b[0;32m~/xin/root_causes_working/data/AIOps挑战赛2020预赛数据/AIOps挑战赛数据/2020_05_22/平台指标/castle/algorithms/__init__.py\u001b[0m in \u001b[0;36m<module>\u001b[0;34m\u001b[0m\n\u001b[1;32m     18\u001b[0m \u001b[0;32mfrom\u001b[0m \u001b[0;34m.\u001b[0m\u001b[0mlingam\u001b[0m \u001b[0;32mimport\u001b[0m \u001b[0mDirectLiNGAM\u001b[0m\u001b[0;34m\u001b[0m\u001b[0;34m\u001b[0m\u001b[0m\n\u001b[1;32m     19\u001b[0m \u001b[0;32mfrom\u001b[0m \u001b[0;34m.\u001b[0m\u001b[0mlingam\u001b[0m \u001b[0;32mimport\u001b[0m \u001b[0mICALiNGAM\u001b[0m\u001b[0;34m\u001b[0m\u001b[0;34m\u001b[0m\u001b[0m\n\u001b[0;32m---> 20\u001b[0;31m \u001b[0;32mfrom\u001b[0m \u001b[0;34m.\u001b[0m\u001b[0mgradient\u001b[0m \u001b[0;32mimport\u001b[0m \u001b[0mNotears\u001b[0m\u001b[0;34m\u001b[0m\u001b[0;34m\u001b[0m\u001b[0m\n\u001b[0m\u001b[1;32m     21\u001b[0m \u001b[0;32mfrom\u001b[0m \u001b[0;34m.\u001b[0m\u001b[0mgradient\u001b[0m \u001b[0;32mimport\u001b[0m \u001b[0mNotearsMLP\u001b[0m\u001b[0;34m\u001b[0m\u001b[0;34m\u001b[0m\u001b[0m\n\u001b[1;32m     22\u001b[0m \u001b[0;32mfrom\u001b[0m \u001b[0;34m.\u001b[0m\u001b[0mgradient\u001b[0m \u001b[0;32mimport\u001b[0m \u001b[0mNotearsSob\u001b[0m\u001b[0;34m\u001b[0m\u001b[0;34m\u001b[0m\u001b[0m\n",
      "\u001b[0;32m~/xin/root_causes_working/data/AIOps挑战赛2020预赛数据/AIOps挑战赛数据/2020_05_22/平台指标/castle/algorithms/gradient/__init__.py\u001b[0m in \u001b[0;36m<module>\u001b[0;34m\u001b[0m\n\u001b[1;32m     21\u001b[0m \u001b[0;34m\u001b[0m\u001b[0m\n\u001b[1;32m     22\u001b[0m \u001b[0;32mfrom\u001b[0m \u001b[0;34m.\u001b[0m\u001b[0mgran_dag\u001b[0m\u001b[0;34m.\u001b[0m\u001b[0mgran_dag\u001b[0m \u001b[0;32mimport\u001b[0m \u001b[0mGraN_DAG\u001b[0m\u001b[0;34m\u001b[0m\u001b[0;34m\u001b[0m\u001b[0m\n\u001b[0;32m---> 23\u001b[0;31m \u001b[0;32mfrom\u001b[0m \u001b[0;34m.\u001b[0m\u001b[0mgraph_auto_encoder\u001b[0m\u001b[0;34m.\u001b[0m\u001b[0mgae\u001b[0m \u001b[0;32mimport\u001b[0m \u001b[0mGAE\u001b[0m\u001b[0;34m\u001b[0m\u001b[0;34m\u001b[0m\u001b[0m\n\u001b[0m\u001b[1;32m     24\u001b[0m \u001b[0;32mfrom\u001b[0m \u001b[0;34m.\u001b[0m\u001b[0mmasked_csl\u001b[0m\u001b[0;34m.\u001b[0m\u001b[0mmcsl\u001b[0m \u001b[0;32mimport\u001b[0m \u001b[0mMCSL\u001b[0m\u001b[0;34m\u001b[0m\u001b[0;34m\u001b[0m\u001b[0m\n\u001b[1;32m     25\u001b[0m \u001b[0;34m\u001b[0m\u001b[0m\n",
      "\u001b[0;32m~/xin/root_causes_working/data/AIOps挑战赛2020预赛数据/AIOps挑战赛数据/2020_05_22/平台指标/castle/algorithms/gradient/graph_auto_encoder/gae.py\u001b[0m in \u001b[0;36m<module>\u001b[0;34m\u001b[0m\n\u001b[1;32m     16\u001b[0m \u001b[0;32mimport\u001b[0m \u001b[0mnumpy\u001b[0m \u001b[0;32mas\u001b[0m \u001b[0mnp\u001b[0m\u001b[0;34m\u001b[0m\u001b[0;34m\u001b[0m\u001b[0m\n\u001b[1;32m     17\u001b[0m \u001b[0;34m\u001b[0m\u001b[0m\n\u001b[0;32m---> 18\u001b[0;31m \u001b[0;32mfrom\u001b[0m \u001b[0mmodels\u001b[0m \u001b[0;32mimport\u001b[0m \u001b[0mGAEModel\u001b[0m\u001b[0;34m\u001b[0m\u001b[0;34m\u001b[0m\u001b[0m\n\u001b[0m\u001b[1;32m     19\u001b[0m \u001b[0;32mfrom\u001b[0m \u001b[0mtrainers\u001b[0m \u001b[0;32mimport\u001b[0m \u001b[0mALTrainer\u001b[0m\u001b[0;34m\u001b[0m\u001b[0;34m\u001b[0m\u001b[0m\n\u001b[1;32m     20\u001b[0m \u001b[0;32mfrom\u001b[0m \u001b[0mhelpers\u001b[0m\u001b[0;34m.\u001b[0m\u001b[0mtf_utils\u001b[0m \u001b[0;32mimport\u001b[0m \u001b[0mset_seed\u001b[0m\u001b[0;34m\u001b[0m\u001b[0;34m\u001b[0m\u001b[0m\n",
      "\u001b[0;31mModuleNotFoundError\u001b[0m: No module named 'models'"
     ]
    }
   ],
   "source": [
    "from castle.algorithms import PC\n",
    "#from castle.algorithms import DirectLiNGAM\n",
    "\n",
    "import matplotlib.pyplot as plt\n",
    "# structure learning\n",
    "pc = PC()\n",
    "pc.learn(ext_features_t)\n",
    "adj_matrix = pc.causal_matrix\n",
    "\n",
    "#g = DirectLiNGAM()\n",
    "#g.learn(metrics)\n",
    "#adj_matrix = g.causal_matrix\n",
    "\n",
    "print(adj_matrix)"
   ]
  },
  {
   "cell_type": "code",
   "execution_count": null,
   "id": "f9dbc6a1",
   "metadata": {},
   "outputs": [],
   "source": []
  }
 ],
 "metadata": {
  "kernelspec": {
   "display_name": "tf1",
   "language": "python",
   "name": "tf1"
  },
  "language_info": {
   "codemirror_mode": {
    "name": "ipython",
    "version": 3
   },
   "file_extension": ".py",
   "mimetype": "text/x-python",
   "name": "python",
   "nbconvert_exporter": "python",
   "pygments_lexer": "ipython3",
   "version": "3.7.11"
  }
 },
 "nbformat": 4,
 "nbformat_minor": 5
}
