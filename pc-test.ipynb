{
 "cells": [
  {
   "cell_type": "code",
   "execution_count": 19,
   "id": "0eb099b0",
   "metadata": {},
   "outputs": [],
   "source": [
    "import pandas as pd;\\\n",
    "db_orcal = pd.read_csv('db_oracle_11g.csv');\\\n",
    "container = pd.read_csv('dcos_container.csv')\n",
    "docker = pd.read_csv('dcos_docker.csv')\n",
    "mw_redis = pd.read_csv('mw_redis.csv')\n",
    "os = pd.read_csv('os_linux.csv')"
   ]
  },
  {
   "cell_type": "code",
   "execution_count": 20,
   "id": "f4ced8c3",
   "metadata": {},
   "outputs": [
    {
     "name": "stderr",
     "output_type": "stream",
     "text": [
      "/Users/ruyuexin/opt/anaconda3/envs/tf1/lib/python3.7/site-packages/ipykernel_launcher.py:3: SettingWithCopyWarning: \n",
      "A value is trying to be set on a copy of a slice from a DataFrame.\n",
      "Try using .loc[row_indexer,col_indexer] = value instead\n",
      "\n",
      "See the caveats in the documentation: https://pandas.pydata.org/pandas-docs/stable/user_guide/indexing.html#returning-a-view-versus-a-copy\n",
      "  This is separate from the ipykernel package so we can avoid doing imports until\n"
     ]
    }
   ],
   "source": [
    "cmdb_group = db_orcal.groupby(\"cmdb_id\");\\\n",
    "db = cmdb_group.get_group('db_003');\\\n",
    "db[\"time\"] = pd.to_datetime(db.timestamp, unit='ms', origin='1970-01-01 08:00:00');\\\n",
    "db = db.sort_values(by='timestamp');\\\n",
    "metrics = db.groupby('name');\\"
   ]
  },
  {
   "cell_type": "code",
   "execution_count": 21,
   "id": "5d24c7a3",
   "metadata": {},
   "outputs": [
    {
     "data": {
      "text/html": [
       "<div>\n",
       "<style scoped>\n",
       "    .dataframe tbody tr th:only-of-type {\n",
       "        vertical-align: middle;\n",
       "    }\n",
       "\n",
       "    .dataframe tbody tr th {\n",
       "        vertical-align: top;\n",
       "    }\n",
       "\n",
       "    .dataframe thead th {\n",
       "        text-align: right;\n",
       "    }\n",
       "</style>\n",
       "<table border=\"1\" class=\"dataframe\">\n",
       "  <thead>\n",
       "    <tr style=\"text-align: right;\">\n",
       "      <th></th>\n",
       "      <th>name</th>\n",
       "      <th>timestamp</th>\n",
       "      <th>value</th>\n",
       "    </tr>\n",
       "  </thead>\n",
       "  <tbody>\n",
       "    <tr>\n",
       "      <th>0</th>\n",
       "      <td>CPU_free_pct</td>\n",
       "      <td>1590076800000</td>\n",
       "      <td>98.850566</td>\n",
       "    </tr>\n",
       "    <tr>\n",
       "      <th>21</th>\n",
       "      <td>CPU_Used_Pct</td>\n",
       "      <td>1590076813000</td>\n",
       "      <td>1.149434</td>\n",
       "    </tr>\n",
       "    <tr>\n",
       "      <th>39</th>\n",
       "      <td>Used_Tbs_Size</td>\n",
       "      <td>1590076826000</td>\n",
       "      <td>17450.400000</td>\n",
       "    </tr>\n",
       "    <tr>\n",
       "      <th>41</th>\n",
       "      <td>SEQ_Used_Pct</td>\n",
       "      <td>1590076826000</td>\n",
       "      <td>1.000000</td>\n",
       "    </tr>\n",
       "    <tr>\n",
       "      <th>75</th>\n",
       "      <td>LFParaWrite_Per_Sec</td>\n",
       "      <td>1590076834000</td>\n",
       "      <td>1.470000</td>\n",
       "    </tr>\n",
       "    <tr>\n",
       "      <th>...</th>\n",
       "      <td>...</td>\n",
       "      <td>...</td>\n",
       "      <td>...</td>\n",
       "    </tr>\n",
       "    <tr>\n",
       "      <th>7198</th>\n",
       "      <td>Call_Per_Sec</td>\n",
       "      <td>1590077737000</td>\n",
       "      <td>200.200000</td>\n",
       "    </tr>\n",
       "    <tr>\n",
       "      <th>7174</th>\n",
       "      <td>On_Off_State</td>\n",
       "      <td>1590077737000</td>\n",
       "      <td>1.000000</td>\n",
       "    </tr>\n",
       "    <tr>\n",
       "      <th>7168</th>\n",
       "      <td>Physical_Read_Per_Sec</td>\n",
       "      <td>1590077737000</td>\n",
       "      <td>1834.700000</td>\n",
       "    </tr>\n",
       "    <tr>\n",
       "      <th>7223</th>\n",
       "      <td>Login_Per_Sec</td>\n",
       "      <td>1590077737000</td>\n",
       "      <td>1.200000</td>\n",
       "    </tr>\n",
       "    <tr>\n",
       "      <th>7381</th>\n",
       "      <td>MEM_real_util</td>\n",
       "      <td>1590077745000</td>\n",
       "      <td>45.530000</td>\n",
       "    </tr>\n",
       "  </tbody>\n",
       "</table>\n",
       "<p>514 rows × 3 columns</p>\n",
       "</div>"
      ],
      "text/plain": [
       "                       name      timestamp         value\n",
       "0              CPU_free_pct  1590076800000     98.850566\n",
       "21             CPU_Used_Pct  1590076813000      1.149434\n",
       "39            Used_Tbs_Size  1590076826000  17450.400000\n",
       "41             SEQ_Used_Pct  1590076826000      1.000000\n",
       "75      LFParaWrite_Per_Sec  1590076834000      1.470000\n",
       "...                     ...            ...           ...\n",
       "7198           Call_Per_Sec  1590077737000    200.200000\n",
       "7174           On_Off_State  1590077737000      1.000000\n",
       "7168  Physical_Read_Per_Sec  1590077737000   1834.700000\n",
       "7223          Login_Per_Sec  1590077737000      1.200000\n",
       "7381          MEM_real_util  1590077745000     45.530000\n",
       "\n",
       "[514 rows x 3 columns]"
      ]
     },
     "execution_count": 21,
     "metadata": {},
     "output_type": "execute_result"
    }
   ],
   "source": [
    "db_values = db[['name', 'timestamp', 'value']];\\\n",
    "db_values_1 = db_values.loc[db_values.timestamp<=1590077748000];\\\n",
    "db_values_1;\\"
   ]
  },
  {
   "cell_type": "code",
   "execution_count": 37,
   "id": "d47423d8",
   "metadata": {},
   "outputs": [
    {
     "name": "stderr",
     "output_type": "stream",
     "text": [
      "Feature Extraction: 100%|██████████| 16/16 [00:02<00:00,  7.26it/s]\n"
     ]
    },
    {
     "data": {
      "text/plain": [
       "(46, 308)"
      ]
     },
     "execution_count": 37,
     "metadata": {},
     "output_type": "execute_result"
    }
   ],
   "source": [
    "from tsfresh import extract_features;\\\n",
    "ext_features = extract_features(db_values, column_id='name', column_sort='timestamp');\\\n",
    "#ext_features_t = ext_features.T\n",
    "ext_features = ext_features.dropna(axis=1, how='any');\\\n",
    "ext_features = ext_features.to_numpy();\\\n",
    "ext_features.shape;\\"
   ]
  },
  {
   "cell_type": "code",
   "execution_count": 38,
   "id": "b206f0ae",
   "metadata": {},
   "outputs": [
    {
     "name": "stdout",
     "output_type": "stream",
     "text": [
      "(2, 46)\n"
     ]
    },
    {
     "data": {
      "text/plain": [
       "array([[-1.06397368e+12, -1.06397368e+12, -1.06397368e+12,\n",
       "        -1.06397368e+12, -1.06397368e+12, -1.06397317e+12,\n",
       "        -1.06396789e+12, -1.06397368e+12, -1.06396304e+12,\n",
       "        -1.06397307e+12, -1.06397368e+12, -1.06397368e+12,\n",
       "        -1.06397368e+12,  4.14970160e+13, -1.06397368e+12,\n",
       "        -1.06394538e+12, -1.06396985e+12, -1.06397360e+12,\n",
       "        -1.06397362e+12, -1.06397223e+12, -1.06397362e+12,\n",
       "        -1.06397368e+12, -1.06397368e+12, -1.06397362e+12,\n",
       "        -1.06286783e+12, -1.06397368e+12, -1.06397368e+12,\n",
       "        -7.27156954e+11, -1.06397368e+12, -1.06397368e+12,\n",
       "        -1.06397368e+12, -1.06397368e+12, -1.06397368e+12,\n",
       "        -1.06396177e+12, -1.06397368e+12, -1.06397368e+12,\n",
       "        -1.06397368e+12, -1.06397366e+12, -1.06397266e+12,\n",
       "        -1.06397320e+12, -1.06397368e+12,  2.33466068e+12,\n",
       "        -1.06397368e+12,  1.58120408e+12, -1.06397368e+12,\n",
       "        -1.06397368e+12],\n",
       "       [-4.42670740e+11, -4.42670740e+11, -4.42670740e+11,\n",
       "        -4.42670740e+11, -4.42670740e+11, -4.42669175e+11,\n",
       "        -4.42653002e+11, -4.42670740e+11, -4.42672018e+11,\n",
       "        -4.42668975e+11, -4.42670740e+11, -4.42670740e+11,\n",
       "        -4.42670740e+11, -1.39528231e+12, -4.42670740e+11,\n",
       "        -4.42578442e+11, -4.42658523e+11, -4.42670523e+11,\n",
       "        -4.42670585e+11, -4.42666604e+11, -4.42670585e+11,\n",
       "        -4.42670740e+11, -4.42670740e+11, -4.42670578e+11,\n",
       "        -4.39422998e+11, -4.42670740e+11, -4.42670740e+11,\n",
       "         7.26552844e+11, -4.42670740e+11, -4.42670740e+11,\n",
       "        -4.42670740e+11, -4.42670740e+11, -4.42670740e+11,\n",
       "        -4.42632351e+11, -4.42670740e+11, -4.42670740e+11,\n",
       "        -4.42670740e+11, -4.42670693e+11, -4.42667360e+11,\n",
       "        -4.42669160e+11, -4.42670740e+11,  1.08844184e+13,\n",
       "        -4.42670740e+11,  8.37306193e+12, -4.42670740e+11,\n",
       "        -4.42670740e+11]])"
      ]
     },
     "execution_count": 38,
     "metadata": {},
     "output_type": "execute_result"
    }
   ],
   "source": [
    "from sklearn.decomposition import PCA;\\\n",
    "pca = PCA(n_components=5);\\\n",
    "ld_features = pca.fit_transform(ext_features);\\\n",
    "ld_features_t = ld_features.T;\\\n",
    "print(ld_features_t.shape);\\\n",
    "ld_features_t;\\"
   ]
  },
  {
   "cell_type": "code",
   "execution_count": 39,
   "id": "f585ae83",
   "metadata": {},
   "outputs": [
    {
     "name": "stdout",
     "output_type": "stream",
     "text": [
      "2\n"
     ]
    },
    {
     "data": {
      "text/plain": [
       "False"
      ]
     },
     "execution_count": 39,
     "metadata": {},
     "output_type": "execute_result"
    }
   ],
   "source": [
    "import numpy as np\n",
    "def is_invertible(a):\n",
    "    print(np.linalg.matrix_rank(a))\n",
    "    return a.shape[0] == a.shape[1] and np.linalg.matrix_rank(a) == a.shape[0]\n",
    "a = np.random.rand(10, 10)\n",
    "is_invertible(ld_features_t)"
   ]
  },
  {
   "cell_type": "code",
   "execution_count": null,
   "id": "d1f6e604",
   "metadata": {},
   "outputs": [],
   "source": [
    "from castle.algorithms import PC\n",
    "#from castle.algorithms import DirectLiNGAM\n",
    "\n",
    "import matplotlib.pyplot as plt\n",
    "# structure learning\n",
    "pc = PC();\\\n",
    "pc.learn(ld_features_t);\\\n",
    "adj_matrix = pc.causal_matrix\n",
    "\n",
    "#g = DirectLiNGAM()\n",
    "#g.learn(metrics)\n",
    "#adj_matrix = g.causal_matrix\n",
    "\n",
    "print(adj_matrix)"
   ]
  },
  {
   "cell_type": "code",
   "execution_count": null,
   "id": "f9dbc6a1",
   "metadata": {},
   "outputs": [],
   "source": []
  }
 ],
 "metadata": {
  "kernelspec": {
   "display_name": "tf1",
   "language": "python",
   "name": "tf1"
  },
  "language_info": {
   "codemirror_mode": {
    "name": "ipython",
    "version": 3
   },
   "file_extension": ".py",
   "mimetype": "text/x-python",
   "name": "python",
   "nbconvert_exporter": "python",
   "pygments_lexer": "ipython3",
   "version": "3.7.11"
  }
 },
 "nbformat": 4,
 "nbformat_minor": 5
}
